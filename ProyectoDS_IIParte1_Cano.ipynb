{
  "nbformat": 4,
  "nbformat_minor": 0,
  "metadata": {
    "colab": {
      "provenance": [],
      "authorship_tag": "ABX9TyNERtb7oOqNRwDeKWsXNrkK",
      "include_colab_link": true
    },
    "kernelspec": {
      "name": "python3",
      "display_name": "Python 3"
    },
    "language_info": {
      "name": "python"
    }
  },
  "cells": [
    {
      "cell_type": "markdown",
      "metadata": {
        "id": "view-in-github",
        "colab_type": "text"
      },
      "source": [
        "<a href=\"https://colab.research.google.com/github/matiascano1/Mi-proyectoDS/blob/main/ProyectoDS_IIParte1_Cano.ipynb\" target=\"_parent\"><img src=\"https://colab.research.google.com/assets/colab-badge.svg\" alt=\"Open In Colab\"/></a>"
      ]
    },
    {
      "cell_type": "markdown",
      "source": [
        "# Predicción de diabetes en India\n",
        "Autor: Matías Cano"
      ],
      "metadata": {
        "id": "-yjzeI23WGZb"
      }
    },
    {
      "cell_type": "markdown",
      "source": [
        "## Definición del problema\n",
        "\n",
        "El dataset elegido está diseñado para ayudar a predecir y analizar la prevalencia de la diabetes y los factores de riesgo entre la población de la India. Incorpora una amplia gama de atributos demográficos, de estilo de vida y clínicos para garantizar una representación holística de los posibles determinantes de la diabetes. Las características del dataset incluyen:\n",
        "\n",
        "Datos demográficos:\n",
        "\n",
        "Edad (int) , sexo (Male, Female, other), residencia (Urban, Rural) y cantidad de embarazos (int).\n",
        "\n",
        "Factores del estilo de vida:\n",
        "\n",
        "Actividad física (High, Medium, Low), tipo de dieta (Vegetarian, Non-Vegetarian, Vegan), tabaquismo (Never, Current, Former), consumo de alcohol (High, Moderate) y niveles de estrés (High, Medium, Low).\n",
        "\n",
        "Historial Médico:\n",
        "\n",
        "Antecedentes familiares de diabetes (Yes, No), hipertensión (Yes, No), afecciones de la tiroides (Yes, No)  y chequeos periódicos (Yes, No).\n",
        "\n",
        "Métricas clínicas:\n",
        "\n",
        "IMC (float), niveles de colesterol (float), azúcar en sangre en ayunas (float) y postprandial (float), hemoglobina glicosilada (HBA1C)(float), niveles de vitamina D (float), niveles de proteína C (float), relación cintura-cadera (float), test de glucosa (float), ritmo cardíaco (int),seguro médico (Yes, No),medicación por condición crónica (Yes, No) y síndrome de ovario poliquístico (Yes, No).\n",
        "\n",
        "**Variable objetivo**: Estado de diabetes (Diabetes_Status), si está presente o no (Yes, No).\n",
        "\n",
        "**Preguntas de interés:**\n",
        "\n",
        "###1. ¿Cuáles son los principales factores de riesgo asociados con la diabetes en la población india?\n",
        "\n",
        "*Hipótesis:* Existe una asociación significativa entre los factores de estilo de vida (dieta, actividad física, tabaquismo, consumo de alcohol, estrés) y la prevalencia de diabetes en la población india.\n",
        "\n",
        "\n",
        "###2. ¿Existe alguna diferencia en la prevalencia de diabetes entre diferentes grupos demográficos?\n",
        "\n",
        "Hipótesis: Los factores demográficos (edad, sexo, residencia) influyen en la prevalencia de diabetes en la población india.\n",
        "\n",
        "###3. ¿Cómo influyen los factores de estilo de vida en el riesgo de diabetes?\n",
        "\n",
        "Hipótesis: La falta de actividad física regular se asocia con un mayor riesgo de diabetes en la población india.\n",
        "\n",
        "\n",
        "###4. ¿Cuál es el papel de los antecedentes médicos y familiares en la predicción de la diabetes?\n",
        "\n",
        "Hipótesis: Los antecedentes médicos (familiares con diabetes, hipertensión, afecciones de la tiroides) aumentan el riesgo de desarrollar diabetes en la población india.\n",
        "\n",
        "Hipótesis: Las personas con antecedentes familiares de diabetes tienen una mayor probabilidad de desarrollar la enfermedad en comparación con aquellas sin antecedentes familiares.\n",
        "\n",
        "\n",
        "\n",
        "El **objetivo general** es utilizar los datos para predecir quien puede tener diabetes o no."
      ],
      "metadata": {
        "id": "bB7un6mRWSoV"
      }
    },
    {
      "cell_type": "markdown",
      "source": [
        "# **Lectura de Datos**\n",
        "\n",
        "---\n",
        "\n"
      ],
      "metadata": {
        "id": "dNX7RE2BIJ9p"
      }
    },
    {
      "cell_type": "markdown",
      "source": [
        "**Librerias, configuracion del entorno y lectura del dataset**"
      ],
      "metadata": {
        "id": "ZSbKnceYJmHD"
      }
    },
    {
      "cell_type": "code",
      "execution_count": 1,
      "metadata": {
        "id": "AUbZAn_5VHiB",
        "colab": {
          "base_uri": "https://localhost:8080/",
          "height": 482
        },
        "outputId": "2119e075-a3e5-47b1-a3f0-82f171d1b419"
      },
      "outputs": [
        {
          "output_type": "execute_result",
          "data": {
            "text/plain": [
              "   Age  Gender   BMI Family_History Physical_Activity       Diet_Type  \\\n",
              "0   48    Male  35.5             No              High  Non-Vegetarian   \n",
              "1   18   Other  28.7            Yes            Medium  Non-Vegetarian   \n",
              "2   21   Other  30.0            Yes              High  Non-Vegetarian   \n",
              "3   25  Female  25.6             No            Medium      Vegetarian   \n",
              "4   78    Male  38.8             No              High  Non-Vegetarian   \n",
              "5   60    Male  19.2             No              High      Vegetarian   \n",
              "6   38  Female  36.4            Yes            Medium      Vegetarian   \n",
              "7   23   Other  21.4             No            Medium           Vegan   \n",
              "8   22  Female  18.9             No            Medium           Vegan   \n",
              "9   18  Female  24.4             No               Low      Vegetarian   \n",
              "\n",
              "  Smoking_Status Alcohol_Intake Stress_Level Hypertension  ...  \\\n",
              "0          Never            NaN       Medium          Yes  ...   \n",
              "1        Current       Moderate         High           No  ...   \n",
              "2        Current       Moderate         High          Yes  ...   \n",
              "3         Former       Moderate         High          Yes  ...   \n",
              "4        Current           High         High           No  ...   \n",
              "5        Current            NaN          Low           No  ...   \n",
              "6        Current           High       Medium           No  ...   \n",
              "7          Never            NaN          Low           No  ...   \n",
              "8         Former            NaN       Medium          Yes  ...   \n",
              "9          Never            NaN       Medium          Yes  ...   \n",
              "\n",
              "   Health_Insurance  Regular_Checkups  Medication_For_Chronic_Conditions  \\\n",
              "0                No                No                                 No   \n",
              "1               Yes               Yes                                 No   \n",
              "2                No                No                                Yes   \n",
              "3                No                No                                Yes   \n",
              "4                No                No                                Yes   \n",
              "5                No               Yes                                Yes   \n",
              "6               Yes                No                                Yes   \n",
              "7               Yes               Yes                                Yes   \n",
              "8               Yes               Yes                                Yes   \n",
              "9               Yes               Yes                                 No   \n",
              "\n",
              "   Pregnancies  Polycystic_Ovary_Syndrome  Glucose_Tolerance_Test_Result  \\\n",
              "0            0                          0                          124.3   \n",
              "1            0                          0                          151.4   \n",
              "2            0                          0                          106.1   \n",
              "3            1                         No                           85.6   \n",
              "4            0                          0                           77.0   \n",
              "5            0                          0                          180.2   \n",
              "6            2                         No                           78.6   \n",
              "7            0                          0                          140.6   \n",
              "8            0                         No                           87.5   \n",
              "9            9                        Yes                          157.2   \n",
              "\n",
              "  Vitamin_D_Level C_Protein_Level Thyroid_Condition Diabetes_Status  \n",
              "0            31.5            7.46               Yes             Yes  \n",
              "1            12.5            5.64               Yes              No  \n",
              "2            35.8            7.20                No             Yes  \n",
              "3            15.4            6.53               Yes              No  \n",
              "4            28.6            0.58                No             Yes  \n",
              "5            49.0            1.83                No              No  \n",
              "6            11.7            8.24               Yes              No  \n",
              "7            25.8            3.39               Yes              No  \n",
              "8            18.4            3.86                No              No  \n",
              "9            23.6            2.16               Yes             Yes  \n",
              "\n",
              "[10 rows x 27 columns]"
            ],
            "text/html": [
              "\n",
              "  <div id=\"df-d19b37d0-7850-4192-8cdc-f87e1f1cfc49\" class=\"colab-df-container\">\n",
              "    <div>\n",
              "<style scoped>\n",
              "    .dataframe tbody tr th:only-of-type {\n",
              "        vertical-align: middle;\n",
              "    }\n",
              "\n",
              "    .dataframe tbody tr th {\n",
              "        vertical-align: top;\n",
              "    }\n",
              "\n",
              "    .dataframe thead th {\n",
              "        text-align: right;\n",
              "    }\n",
              "</style>\n",
              "<table border=\"1\" class=\"dataframe\">\n",
              "  <thead>\n",
              "    <tr style=\"text-align: right;\">\n",
              "      <th></th>\n",
              "      <th>Age</th>\n",
              "      <th>Gender</th>\n",
              "      <th>BMI</th>\n",
              "      <th>Family_History</th>\n",
              "      <th>Physical_Activity</th>\n",
              "      <th>Diet_Type</th>\n",
              "      <th>Smoking_Status</th>\n",
              "      <th>Alcohol_Intake</th>\n",
              "      <th>Stress_Level</th>\n",
              "      <th>Hypertension</th>\n",
              "      <th>...</th>\n",
              "      <th>Health_Insurance</th>\n",
              "      <th>Regular_Checkups</th>\n",
              "      <th>Medication_For_Chronic_Conditions</th>\n",
              "      <th>Pregnancies</th>\n",
              "      <th>Polycystic_Ovary_Syndrome</th>\n",
              "      <th>Glucose_Tolerance_Test_Result</th>\n",
              "      <th>Vitamin_D_Level</th>\n",
              "      <th>C_Protein_Level</th>\n",
              "      <th>Thyroid_Condition</th>\n",
              "      <th>Diabetes_Status</th>\n",
              "    </tr>\n",
              "  </thead>\n",
              "  <tbody>\n",
              "    <tr>\n",
              "      <th>0</th>\n",
              "      <td>48</td>\n",
              "      <td>Male</td>\n",
              "      <td>35.5</td>\n",
              "      <td>No</td>\n",
              "      <td>High</td>\n",
              "      <td>Non-Vegetarian</td>\n",
              "      <td>Never</td>\n",
              "      <td>NaN</td>\n",
              "      <td>Medium</td>\n",
              "      <td>Yes</td>\n",
              "      <td>...</td>\n",
              "      <td>No</td>\n",
              "      <td>No</td>\n",
              "      <td>No</td>\n",
              "      <td>0</td>\n",
              "      <td>0</td>\n",
              "      <td>124.3</td>\n",
              "      <td>31.5</td>\n",
              "      <td>7.46</td>\n",
              "      <td>Yes</td>\n",
              "      <td>Yes</td>\n",
              "    </tr>\n",
              "    <tr>\n",
              "      <th>1</th>\n",
              "      <td>18</td>\n",
              "      <td>Other</td>\n",
              "      <td>28.7</td>\n",
              "      <td>Yes</td>\n",
              "      <td>Medium</td>\n",
              "      <td>Non-Vegetarian</td>\n",
              "      <td>Current</td>\n",
              "      <td>Moderate</td>\n",
              "      <td>High</td>\n",
              "      <td>No</td>\n",
              "      <td>...</td>\n",
              "      <td>Yes</td>\n",
              "      <td>Yes</td>\n",
              "      <td>No</td>\n",
              "      <td>0</td>\n",
              "      <td>0</td>\n",
              "      <td>151.4</td>\n",
              "      <td>12.5</td>\n",
              "      <td>5.64</td>\n",
              "      <td>Yes</td>\n",
              "      <td>No</td>\n",
              "    </tr>\n",
              "    <tr>\n",
              "      <th>2</th>\n",
              "      <td>21</td>\n",
              "      <td>Other</td>\n",
              "      <td>30.0</td>\n",
              "      <td>Yes</td>\n",
              "      <td>High</td>\n",
              "      <td>Non-Vegetarian</td>\n",
              "      <td>Current</td>\n",
              "      <td>Moderate</td>\n",
              "      <td>High</td>\n",
              "      <td>Yes</td>\n",
              "      <td>...</td>\n",
              "      <td>No</td>\n",
              "      <td>No</td>\n",
              "      <td>Yes</td>\n",
              "      <td>0</td>\n",
              "      <td>0</td>\n",
              "      <td>106.1</td>\n",
              "      <td>35.8</td>\n",
              "      <td>7.20</td>\n",
              "      <td>No</td>\n",
              "      <td>Yes</td>\n",
              "    </tr>\n",
              "    <tr>\n",
              "      <th>3</th>\n",
              "      <td>25</td>\n",
              "      <td>Female</td>\n",
              "      <td>25.6</td>\n",
              "      <td>No</td>\n",
              "      <td>Medium</td>\n",
              "      <td>Vegetarian</td>\n",
              "      <td>Former</td>\n",
              "      <td>Moderate</td>\n",
              "      <td>High</td>\n",
              "      <td>Yes</td>\n",
              "      <td>...</td>\n",
              "      <td>No</td>\n",
              "      <td>No</td>\n",
              "      <td>Yes</td>\n",
              "      <td>1</td>\n",
              "      <td>No</td>\n",
              "      <td>85.6</td>\n",
              "      <td>15.4</td>\n",
              "      <td>6.53</td>\n",
              "      <td>Yes</td>\n",
              "      <td>No</td>\n",
              "    </tr>\n",
              "    <tr>\n",
              "      <th>4</th>\n",
              "      <td>78</td>\n",
              "      <td>Male</td>\n",
              "      <td>38.8</td>\n",
              "      <td>No</td>\n",
              "      <td>High</td>\n",
              "      <td>Non-Vegetarian</td>\n",
              "      <td>Current</td>\n",
              "      <td>High</td>\n",
              "      <td>High</td>\n",
              "      <td>No</td>\n",
              "      <td>...</td>\n",
              "      <td>No</td>\n",
              "      <td>No</td>\n",
              "      <td>Yes</td>\n",
              "      <td>0</td>\n",
              "      <td>0</td>\n",
              "      <td>77.0</td>\n",
              "      <td>28.6</td>\n",
              "      <td>0.58</td>\n",
              "      <td>No</td>\n",
              "      <td>Yes</td>\n",
              "    </tr>\n",
              "    <tr>\n",
              "      <th>5</th>\n",
              "      <td>60</td>\n",
              "      <td>Male</td>\n",
              "      <td>19.2</td>\n",
              "      <td>No</td>\n",
              "      <td>High</td>\n",
              "      <td>Vegetarian</td>\n",
              "      <td>Current</td>\n",
              "      <td>NaN</td>\n",
              "      <td>Low</td>\n",
              "      <td>No</td>\n",
              "      <td>...</td>\n",
              "      <td>No</td>\n",
              "      <td>Yes</td>\n",
              "      <td>Yes</td>\n",
              "      <td>0</td>\n",
              "      <td>0</td>\n",
              "      <td>180.2</td>\n",
              "      <td>49.0</td>\n",
              "      <td>1.83</td>\n",
              "      <td>No</td>\n",
              "      <td>No</td>\n",
              "    </tr>\n",
              "    <tr>\n",
              "      <th>6</th>\n",
              "      <td>38</td>\n",
              "      <td>Female</td>\n",
              "      <td>36.4</td>\n",
              "      <td>Yes</td>\n",
              "      <td>Medium</td>\n",
              "      <td>Vegetarian</td>\n",
              "      <td>Current</td>\n",
              "      <td>High</td>\n",
              "      <td>Medium</td>\n",
              "      <td>No</td>\n",
              "      <td>...</td>\n",
              "      <td>Yes</td>\n",
              "      <td>No</td>\n",
              "      <td>Yes</td>\n",
              "      <td>2</td>\n",
              "      <td>No</td>\n",
              "      <td>78.6</td>\n",
              "      <td>11.7</td>\n",
              "      <td>8.24</td>\n",
              "      <td>Yes</td>\n",
              "      <td>No</td>\n",
              "    </tr>\n",
              "    <tr>\n",
              "      <th>7</th>\n",
              "      <td>23</td>\n",
              "      <td>Other</td>\n",
              "      <td>21.4</td>\n",
              "      <td>No</td>\n",
              "      <td>Medium</td>\n",
              "      <td>Vegan</td>\n",
              "      <td>Never</td>\n",
              "      <td>NaN</td>\n",
              "      <td>Low</td>\n",
              "      <td>No</td>\n",
              "      <td>...</td>\n",
              "      <td>Yes</td>\n",
              "      <td>Yes</td>\n",
              "      <td>Yes</td>\n",
              "      <td>0</td>\n",
              "      <td>0</td>\n",
              "      <td>140.6</td>\n",
              "      <td>25.8</td>\n",
              "      <td>3.39</td>\n",
              "      <td>Yes</td>\n",
              "      <td>No</td>\n",
              "    </tr>\n",
              "    <tr>\n",
              "      <th>8</th>\n",
              "      <td>22</td>\n",
              "      <td>Female</td>\n",
              "      <td>18.9</td>\n",
              "      <td>No</td>\n",
              "      <td>Medium</td>\n",
              "      <td>Vegan</td>\n",
              "      <td>Former</td>\n",
              "      <td>NaN</td>\n",
              "      <td>Medium</td>\n",
              "      <td>Yes</td>\n",
              "      <td>...</td>\n",
              "      <td>Yes</td>\n",
              "      <td>Yes</td>\n",
              "      <td>Yes</td>\n",
              "      <td>0</td>\n",
              "      <td>No</td>\n",
              "      <td>87.5</td>\n",
              "      <td>18.4</td>\n",
              "      <td>3.86</td>\n",
              "      <td>No</td>\n",
              "      <td>No</td>\n",
              "    </tr>\n",
              "    <tr>\n",
              "      <th>9</th>\n",
              "      <td>18</td>\n",
              "      <td>Female</td>\n",
              "      <td>24.4</td>\n",
              "      <td>No</td>\n",
              "      <td>Low</td>\n",
              "      <td>Vegetarian</td>\n",
              "      <td>Never</td>\n",
              "      <td>NaN</td>\n",
              "      <td>Medium</td>\n",
              "      <td>Yes</td>\n",
              "      <td>...</td>\n",
              "      <td>Yes</td>\n",
              "      <td>Yes</td>\n",
              "      <td>No</td>\n",
              "      <td>9</td>\n",
              "      <td>Yes</td>\n",
              "      <td>157.2</td>\n",
              "      <td>23.6</td>\n",
              "      <td>2.16</td>\n",
              "      <td>Yes</td>\n",
              "      <td>Yes</td>\n",
              "    </tr>\n",
              "  </tbody>\n",
              "</table>\n",
              "<p>10 rows × 27 columns</p>\n",
              "</div>\n",
              "    <div class=\"colab-df-buttons\">\n",
              "\n",
              "  <div class=\"colab-df-container\">\n",
              "    <button class=\"colab-df-convert\" onclick=\"convertToInteractive('df-d19b37d0-7850-4192-8cdc-f87e1f1cfc49')\"\n",
              "            title=\"Convert this dataframe to an interactive table.\"\n",
              "            style=\"display:none;\">\n",
              "\n",
              "  <svg xmlns=\"http://www.w3.org/2000/svg\" height=\"24px\" viewBox=\"0 -960 960 960\">\n",
              "    <path d=\"M120-120v-720h720v720H120Zm60-500h600v-160H180v160Zm220 220h160v-160H400v160Zm0 220h160v-160H400v160ZM180-400h160v-160H180v160Zm440 0h160v-160H620v160ZM180-180h160v-160H180v160Zm440 0h160v-160H620v160Z\"/>\n",
              "  </svg>\n",
              "    </button>\n",
              "\n",
              "  <style>\n",
              "    .colab-df-container {\n",
              "      display:flex;\n",
              "      gap: 12px;\n",
              "    }\n",
              "\n",
              "    .colab-df-convert {\n",
              "      background-color: #E8F0FE;\n",
              "      border: none;\n",
              "      border-radius: 50%;\n",
              "      cursor: pointer;\n",
              "      display: none;\n",
              "      fill: #1967D2;\n",
              "      height: 32px;\n",
              "      padding: 0 0 0 0;\n",
              "      width: 32px;\n",
              "    }\n",
              "\n",
              "    .colab-df-convert:hover {\n",
              "      background-color: #E2EBFA;\n",
              "      box-shadow: 0px 1px 2px rgba(60, 64, 67, 0.3), 0px 1px 3px 1px rgba(60, 64, 67, 0.15);\n",
              "      fill: #174EA6;\n",
              "    }\n",
              "\n",
              "    .colab-df-buttons div {\n",
              "      margin-bottom: 4px;\n",
              "    }\n",
              "\n",
              "    [theme=dark] .colab-df-convert {\n",
              "      background-color: #3B4455;\n",
              "      fill: #D2E3FC;\n",
              "    }\n",
              "\n",
              "    [theme=dark] .colab-df-convert:hover {\n",
              "      background-color: #434B5C;\n",
              "      box-shadow: 0px 1px 3px 1px rgba(0, 0, 0, 0.15);\n",
              "      filter: drop-shadow(0px 1px 2px rgba(0, 0, 0, 0.3));\n",
              "      fill: #FFFFFF;\n",
              "    }\n",
              "  </style>\n",
              "\n",
              "    <script>\n",
              "      const buttonEl =\n",
              "        document.querySelector('#df-d19b37d0-7850-4192-8cdc-f87e1f1cfc49 button.colab-df-convert');\n",
              "      buttonEl.style.display =\n",
              "        google.colab.kernel.accessAllowed ? 'block' : 'none';\n",
              "\n",
              "      async function convertToInteractive(key) {\n",
              "        const element = document.querySelector('#df-d19b37d0-7850-4192-8cdc-f87e1f1cfc49');\n",
              "        const dataTable =\n",
              "          await google.colab.kernel.invokeFunction('convertToInteractive',\n",
              "                                                    [key], {});\n",
              "        if (!dataTable) return;\n",
              "\n",
              "        const docLinkHtml = 'Like what you see? Visit the ' +\n",
              "          '<a target=\"_blank\" href=https://colab.research.google.com/notebooks/data_table.ipynb>data table notebook</a>'\n",
              "          + ' to learn more about interactive tables.';\n",
              "        element.innerHTML = '';\n",
              "        dataTable['output_type'] = 'display_data';\n",
              "        await google.colab.output.renderOutput(dataTable, element);\n",
              "        const docLink = document.createElement('div');\n",
              "        docLink.innerHTML = docLinkHtml;\n",
              "        element.appendChild(docLink);\n",
              "      }\n",
              "    </script>\n",
              "  </div>\n",
              "\n",
              "\n",
              "    <div id=\"df-c8a5d217-97a1-4033-9144-ff01f39ff023\">\n",
              "      <button class=\"colab-df-quickchart\" onclick=\"quickchart('df-c8a5d217-97a1-4033-9144-ff01f39ff023')\"\n",
              "                title=\"Suggest charts\"\n",
              "                style=\"display:none;\">\n",
              "\n",
              "<svg xmlns=\"http://www.w3.org/2000/svg\" height=\"24px\"viewBox=\"0 0 24 24\"\n",
              "     width=\"24px\">\n",
              "    <g>\n",
              "        <path d=\"M19 3H5c-1.1 0-2 .9-2 2v14c0 1.1.9 2 2 2h14c1.1 0 2-.9 2-2V5c0-1.1-.9-2-2-2zM9 17H7v-7h2v7zm4 0h-2V7h2v10zm4 0h-2v-4h2v4z\"/>\n",
              "    </g>\n",
              "</svg>\n",
              "      </button>\n",
              "\n",
              "<style>\n",
              "  .colab-df-quickchart {\n",
              "      --bg-color: #E8F0FE;\n",
              "      --fill-color: #1967D2;\n",
              "      --hover-bg-color: #E2EBFA;\n",
              "      --hover-fill-color: #174EA6;\n",
              "      --disabled-fill-color: #AAA;\n",
              "      --disabled-bg-color: #DDD;\n",
              "  }\n",
              "\n",
              "  [theme=dark] .colab-df-quickchart {\n",
              "      --bg-color: #3B4455;\n",
              "      --fill-color: #D2E3FC;\n",
              "      --hover-bg-color: #434B5C;\n",
              "      --hover-fill-color: #FFFFFF;\n",
              "      --disabled-bg-color: #3B4455;\n",
              "      --disabled-fill-color: #666;\n",
              "  }\n",
              "\n",
              "  .colab-df-quickchart {\n",
              "    background-color: var(--bg-color);\n",
              "    border: none;\n",
              "    border-radius: 50%;\n",
              "    cursor: pointer;\n",
              "    display: none;\n",
              "    fill: var(--fill-color);\n",
              "    height: 32px;\n",
              "    padding: 0;\n",
              "    width: 32px;\n",
              "  }\n",
              "\n",
              "  .colab-df-quickchart:hover {\n",
              "    background-color: var(--hover-bg-color);\n",
              "    box-shadow: 0 1px 2px rgba(60, 64, 67, 0.3), 0 1px 3px 1px rgba(60, 64, 67, 0.15);\n",
              "    fill: var(--button-hover-fill-color);\n",
              "  }\n",
              "\n",
              "  .colab-df-quickchart-complete:disabled,\n",
              "  .colab-df-quickchart-complete:disabled:hover {\n",
              "    background-color: var(--disabled-bg-color);\n",
              "    fill: var(--disabled-fill-color);\n",
              "    box-shadow: none;\n",
              "  }\n",
              "\n",
              "  .colab-df-spinner {\n",
              "    border: 2px solid var(--fill-color);\n",
              "    border-color: transparent;\n",
              "    border-bottom-color: var(--fill-color);\n",
              "    animation:\n",
              "      spin 1s steps(1) infinite;\n",
              "  }\n",
              "\n",
              "  @keyframes spin {\n",
              "    0% {\n",
              "      border-color: transparent;\n",
              "      border-bottom-color: var(--fill-color);\n",
              "      border-left-color: var(--fill-color);\n",
              "    }\n",
              "    20% {\n",
              "      border-color: transparent;\n",
              "      border-left-color: var(--fill-color);\n",
              "      border-top-color: var(--fill-color);\n",
              "    }\n",
              "    30% {\n",
              "      border-color: transparent;\n",
              "      border-left-color: var(--fill-color);\n",
              "      border-top-color: var(--fill-color);\n",
              "      border-right-color: var(--fill-color);\n",
              "    }\n",
              "    40% {\n",
              "      border-color: transparent;\n",
              "      border-right-color: var(--fill-color);\n",
              "      border-top-color: var(--fill-color);\n",
              "    }\n",
              "    60% {\n",
              "      border-color: transparent;\n",
              "      border-right-color: var(--fill-color);\n",
              "    }\n",
              "    80% {\n",
              "      border-color: transparent;\n",
              "      border-right-color: var(--fill-color);\n",
              "      border-bottom-color: var(--fill-color);\n",
              "    }\n",
              "    90% {\n",
              "      border-color: transparent;\n",
              "      border-bottom-color: var(--fill-color);\n",
              "    }\n",
              "  }\n",
              "</style>\n",
              "\n",
              "      <script>\n",
              "        async function quickchart(key) {\n",
              "          const quickchartButtonEl =\n",
              "            document.querySelector('#' + key + ' button');\n",
              "          quickchartButtonEl.disabled = true;  // To prevent multiple clicks.\n",
              "          quickchartButtonEl.classList.add('colab-df-spinner');\n",
              "          try {\n",
              "            const charts = await google.colab.kernel.invokeFunction(\n",
              "                'suggestCharts', [key], {});\n",
              "          } catch (error) {\n",
              "            console.error('Error during call to suggestCharts:', error);\n",
              "          }\n",
              "          quickchartButtonEl.classList.remove('colab-df-spinner');\n",
              "          quickchartButtonEl.classList.add('colab-df-quickchart-complete');\n",
              "        }\n",
              "        (() => {\n",
              "          let quickchartButtonEl =\n",
              "            document.querySelector('#df-c8a5d217-97a1-4033-9144-ff01f39ff023 button');\n",
              "          quickchartButtonEl.style.display =\n",
              "            google.colab.kernel.accessAllowed ? 'block' : 'none';\n",
              "        })();\n",
              "      </script>\n",
              "    </div>\n",
              "\n",
              "    </div>\n",
              "  </div>\n"
            ],
            "application/vnd.google.colaboratory.intrinsic+json": {
              "type": "dataframe",
              "variable_name": "df"
            }
          },
          "metadata": {},
          "execution_count": 1
        }
      ],
      "source": [
        "import pandas as pd\n",
        "import numpy as np\n",
        "import matplotlib.pyplot as plt\n",
        "import seaborn as sns\n",
        "import warnings # Filtro los warnings que puede generarme el código\n",
        "warnings.filterwarnings('ignore')\n",
        "url= 'https://raw.githubusercontent.com/matiascano1/Mi-proyectoDS/refs/heads/main/diabetes_prediction_india.csv'\n",
        "df=pd.read_csv(url,sep=',')\n",
        "df.head(10)"
      ]
    },
    {
      "cell_type": "markdown",
      "source": [
        "**Análisis inicial**"
      ],
      "metadata": {
        "id": "Zaoh88orlbpH"
      }
    },
    {
      "cell_type": "code",
      "source": [
        "#hago una copia del df original y trabajo sobre la misma.\n",
        "df_copy = df.copy()"
      ],
      "metadata": {
        "id": "LI_KWHHGymPa"
      },
      "execution_count": 2,
      "outputs": []
    },
    {
      "cell_type": "code",
      "source": [
        "# Veo las dimensiones del dataset\n",
        "df_copy.shape"
      ],
      "metadata": {
        "colab": {
          "base_uri": "https://localhost:8080/"
        },
        "id": "ZMpxCb3Kl84o",
        "outputId": "5f9cd3fb-adfd-4f79-d8f3-150a62d15933"
      },
      "execution_count": 3,
      "outputs": [
        {
          "output_type": "execute_result",
          "data": {
            "text/plain": [
              "(5292, 27)"
            ]
          },
          "metadata": {},
          "execution_count": 3
        }
      ]
    },
    {
      "cell_type": "code",
      "source": [
        "#Busco información general del dataset\n",
        "df_copy.info()"
      ],
      "metadata": {
        "colab": {
          "base_uri": "https://localhost:8080/"
        },
        "id": "7-smakeKn__i",
        "outputId": "eb165c67-8a8a-43af-de0b-90034d02849f"
      },
      "execution_count": 4,
      "outputs": [
        {
          "output_type": "stream",
          "name": "stdout",
          "text": [
            "<class 'pandas.core.frame.DataFrame'>\n",
            "RangeIndex: 5292 entries, 0 to 5291\n",
            "Data columns (total 27 columns):\n",
            " #   Column                             Non-Null Count  Dtype  \n",
            "---  ------                             --------------  -----  \n",
            " 0   Age                                5292 non-null   int64  \n",
            " 1   Gender                             5292 non-null   object \n",
            " 2   BMI                                5292 non-null   float64\n",
            " 3   Family_History                     5292 non-null   object \n",
            " 4   Physical_Activity                  5292 non-null   object \n",
            " 5   Diet_Type                          5292 non-null   object \n",
            " 6   Smoking_Status                     5292 non-null   object \n",
            " 7   Alcohol_Intake                     3512 non-null   object \n",
            " 8   Stress_Level                       5292 non-null   object \n",
            " 9   Hypertension                       5292 non-null   object \n",
            " 10  Cholesterol_Level                  5292 non-null   float64\n",
            " 11  Fasting_Blood_Sugar                5292 non-null   float64\n",
            " 12  Postprandial_Blood_Sugar           5292 non-null   float64\n",
            " 13  HBA1C                              5292 non-null   float64\n",
            " 14  Heart_Rate                         5292 non-null   int64  \n",
            " 15  Waist_Hip_Ratio                    5292 non-null   float64\n",
            " 16  Urban_Rural                        5292 non-null   object \n",
            " 17  Health_Insurance                   5292 non-null   object \n",
            " 18  Regular_Checkups                   5292 non-null   object \n",
            " 19  Medication_For_Chronic_Conditions  5292 non-null   object \n",
            " 20  Pregnancies                        5292 non-null   int64  \n",
            " 21  Polycystic_Ovary_Syndrome          5292 non-null   object \n",
            " 22  Glucose_Tolerance_Test_Result      5292 non-null   float64\n",
            " 23  Vitamin_D_Level                    5292 non-null   float64\n",
            " 24  C_Protein_Level                    5292 non-null   float64\n",
            " 25  Thyroid_Condition                  5292 non-null   object \n",
            " 26  Diabetes_Status                    5292 non-null   object \n",
            "dtypes: float64(9), int64(3), object(15)\n",
            "memory usage: 1.1+ MB\n"
          ]
        }
      ]
    },
    {
      "cell_type": "code",
      "source": [
        "# Hay 27 columnas, así que quiero saber sus nombres\n",
        "df_copy.columns\n"
      ],
      "metadata": {
        "colab": {
          "base_uri": "https://localhost:8080/"
        },
        "id": "R2lv9sDBmdb3",
        "outputId": "25616b6c-63f5-44b5-f90f-a9731820a2d8"
      },
      "execution_count": 5,
      "outputs": [
        {
          "output_type": "execute_result",
          "data": {
            "text/plain": [
              "Index(['Age', 'Gender', 'BMI', 'Family_History', 'Physical_Activity',\n",
              "       'Diet_Type', 'Smoking_Status', 'Alcohol_Intake', 'Stress_Level',\n",
              "       'Hypertension', 'Cholesterol_Level', 'Fasting_Blood_Sugar',\n",
              "       'Postprandial_Blood_Sugar', 'HBA1C', 'Heart_Rate', 'Waist_Hip_Ratio',\n",
              "       'Urban_Rural', 'Health_Insurance', 'Regular_Checkups',\n",
              "       'Medication_For_Chronic_Conditions', 'Pregnancies',\n",
              "       'Polycystic_Ovary_Syndrome', 'Glucose_Tolerance_Test_Result',\n",
              "       'Vitamin_D_Level', 'C_Protein_Level', 'Thyroid_Condition',\n",
              "       'Diabetes_Status'],\n",
              "      dtype='object')"
            ]
          },
          "metadata": {},
          "execution_count": 5
        }
      ]
    },
    {
      "cell_type": "markdown",
      "source": [
        "Diccionario de variables:"
      ],
      "metadata": {
        "id": "HFR-OpOtplao"
      }
    },
    {
      "cell_type": "markdown",
      "source": [
        "**Age**: Edad de los pacientes analizados.\n",
        "\n",
        "**Gender**: Género.\n",
        "\n",
        "**BMI**: Indice de masa corporal.\n",
        "\n",
        "**Family_History**: Si algún familiar tuvo diabetes o no.\n",
        "\n",
        "**Physical_Activity**: Si el paciente raliza actividad física.\n",
        "\n",
        "**Diet_Tipe**: Alimentos que consume.\n",
        "\n",
        "**Smoking_Status**: Si es fumador o no.\n",
        "\n",
        "**Alcohol_Intake**: Si consume alcohol o no.\n",
        "\n",
        "**Stress_Level**: Nivel de estrés.\n",
        "\n",
        "**Hypertension**: Hipertensión, es la presión arterial alta.\n",
        "\n",
        "**Cholesterol_Level**: Nivel de colesterol.\n",
        "\n",
        "**Fasting_Blood_Sugar**: Azúcar en sangre en ayunas.\n",
        "\n",
        "**Postprandial_Blood_Sugar**: Azúcar en sangre postprandial (luego de una comida).\n",
        "\n",
        "**HBA1C**: Hemoglobina Glicosilada, prueba muy importante.\n",
        "\n",
        "**Heart_Rate**: Frecuencia cardíaca.\n",
        "\n",
        "**Waist_Hip_Ratio**: Relación cadera-cintura.\n",
        "\n",
        "**Urban_Rural**: Zona de residencia.\n",
        "\n",
        "**Health_Insurance**: Seguro médico.\n",
        "\n",
        "**Regular_Checkups**: Chequeos regulares.\n",
        "\n",
        "**Medication_For_Chronic_Conditions**: Medicación para pacientes crónicos.\n",
        "\n",
        "**Pregnancies**: Embarazos (cantidad).\n",
        "\n",
        "**Polycystic_Ovary_Syndrome**: Síndrome de ovario poliquístico.\n",
        "\n",
        "**Glucose_Tolerance_Test_Result**: Resultados del test de tolerancia a la gulcosa.\n",
        "\n",
        "**Vitamin_D_Level**: Nivel de vitamina D.\n",
        "\n",
        "**C_Protein_Level**: Nivel de proteína C.\n",
        "\n",
        "**Thyroid_Condition**: Afeccion de la tiroides.\n",
        "\n",
        "**Diabetes_Status**: Si tiene diabetes o no\n",
        "\n",
        "      "
      ],
      "metadata": {
        "id": "VSsZOgU6pq4P"
      }
    },
    {
      "cell_type": "code",
      "source": [
        "# Quiero ver los tipos de datos que tienen las columnas del dataset\n",
        "tipos_de_datos = df_copy.dtypes\n",
        "print(tipos_de_datos)"
      ],
      "metadata": {
        "colab": {
          "base_uri": "https://localhost:8080/"
        },
        "id": "0DEmZfbBm03K",
        "outputId": "f8a9776f-e881-411f-abd1-f98ebff162ff"
      },
      "execution_count": 6,
      "outputs": [
        {
          "output_type": "stream",
          "name": "stdout",
          "text": [
            "Age                                    int64\n",
            "Gender                                object\n",
            "BMI                                  float64\n",
            "Family_History                        object\n",
            "Physical_Activity                     object\n",
            "Diet_Type                             object\n",
            "Smoking_Status                        object\n",
            "Alcohol_Intake                        object\n",
            "Stress_Level                          object\n",
            "Hypertension                          object\n",
            "Cholesterol_Level                    float64\n",
            "Fasting_Blood_Sugar                  float64\n",
            "Postprandial_Blood_Sugar             float64\n",
            "HBA1C                                float64\n",
            "Heart_Rate                             int64\n",
            "Waist_Hip_Ratio                      float64\n",
            "Urban_Rural                           object\n",
            "Health_Insurance                      object\n",
            "Regular_Checkups                      object\n",
            "Medication_For_Chronic_Conditions     object\n",
            "Pregnancies                            int64\n",
            "Polycystic_Ovary_Syndrome             object\n",
            "Glucose_Tolerance_Test_Result        float64\n",
            "Vitamin_D_Level                      float64\n",
            "C_Protein_Level                      float64\n",
            "Thyroid_Condition                     object\n",
            "Diabetes_Status                       object\n",
            "dtype: object\n"
          ]
        }
      ]
    },
    {
      "cell_type": "markdown",
      "source": [
        "# **Limpieza y transformación de datos.**"
      ],
      "metadata": {
        "id": "mqBHTQnQWFOl"
      }
    },
    {
      "cell_type": "markdown",
      "source": [
        "**Valores nulos, faltantes o duplicados**: Analizo el dataframe, para verificar si existen valores nulos, y encuentro que en la ingesta de alcohol tengo 1780 valores nulos."
      ],
      "metadata": {
        "id": "W9Kx3pyxucJ9"
      }
    },
    {
      "cell_type": "code",
      "source": [
        "# Analizo si existen valores nulos\n",
        "valores_faltantes = df_copy.isnull().sum()\n",
        "print(valores_faltantes)"
      ],
      "metadata": {
        "id": "My2VKky4WK6r",
        "colab": {
          "base_uri": "https://localhost:8080/"
        },
        "outputId": "1f6fada7-2cfb-4855-cd48-db965ca054fa"
      },
      "execution_count": 7,
      "outputs": [
        {
          "output_type": "stream",
          "name": "stdout",
          "text": [
            "Age                                     0\n",
            "Gender                                  0\n",
            "BMI                                     0\n",
            "Family_History                          0\n",
            "Physical_Activity                       0\n",
            "Diet_Type                               0\n",
            "Smoking_Status                          0\n",
            "Alcohol_Intake                       1780\n",
            "Stress_Level                            0\n",
            "Hypertension                            0\n",
            "Cholesterol_Level                       0\n",
            "Fasting_Blood_Sugar                     0\n",
            "Postprandial_Blood_Sugar                0\n",
            "HBA1C                                   0\n",
            "Heart_Rate                              0\n",
            "Waist_Hip_Ratio                         0\n",
            "Urban_Rural                             0\n",
            "Health_Insurance                        0\n",
            "Regular_Checkups                        0\n",
            "Medication_For_Chronic_Conditions       0\n",
            "Pregnancies                             0\n",
            "Polycystic_Ovary_Syndrome               0\n",
            "Glucose_Tolerance_Test_Result           0\n",
            "Vitamin_D_Level                         0\n",
            "C_Protein_Level                         0\n",
            "Thyroid_Condition                       0\n",
            "Diabetes_Status                         0\n",
            "dtype: int64\n"
          ]
        }
      ]
    },
    {
      "cell_type": "code",
      "source": [
        "# Veo los valores que contiene la columna en la cual tengo valores Not a Number\n",
        "valores_unicos = df_copy['Alcohol_Intake'].unique()\n",
        "print(valores_unicos)"
      ],
      "metadata": {
        "colab": {
          "base_uri": "https://localhost:8080/"
        },
        "id": "jiEla7TpvWLJ",
        "outputId": "36830218-420e-47c6-ad79-a18ca724ae40"
      },
      "execution_count": 8,
      "outputs": [
        {
          "output_type": "stream",
          "name": "stdout",
          "text": [
            "[nan 'Moderate' 'High']\n"
          ]
        }
      ]
    },
    {
      "cell_type": "markdown",
      "source": [
        "Supongo que los NaN representan la ausencia de consumo de alcohol, y los reemplazo con \"never\". Ésta decisión me ayudará a minimizar el sesgo en el análisis. Si se imputaran los NaN con la moda o una categoría aleatoria, se podría introducir un sesgo artificial en la distribución de la variable."
      ],
      "metadata": {
        "id": "J1cSzc5RxO6m"
      }
    },
    {
      "cell_type": "code",
      "source": [
        "df_copy['Alcohol_Intake'] = df_copy['Alcohol_Intake'].fillna('Never')\n",
        "valores_unicos = df_copy['Alcohol_Intake'].unique()\n",
        "print(valores_unicos)\n"
      ],
      "metadata": {
        "colab": {
          "base_uri": "https://localhost:8080/"
        },
        "id": "NjHCZemzxTA8",
        "outputId": "d246f686-ca0e-41be-dfe7-dfef5e07226b"
      },
      "execution_count": 9,
      "outputs": [
        {
          "output_type": "stream",
          "name": "stdout",
          "text": [
            "['Never' 'Moderate' 'High']\n"
          ]
        }
      ]
    },
    {
      "cell_type": "markdown",
      "source": [
        "Analizo la columna Gender"
      ],
      "metadata": {
        "id": "OXHj0svF0nlm"
      }
    },
    {
      "cell_type": "code",
      "source": [
        "valor_gender = df_copy['Gender'].unique()\n",
        "print(valor_gender)"
      ],
      "metadata": {
        "colab": {
          "base_uri": "https://localhost:8080/"
        },
        "id": "nE4JZthS0rLO",
        "outputId": "8985df2d-18cc-4294-e09c-c00041583a82"
      },
      "execution_count": 10,
      "outputs": [
        {
          "output_type": "stream",
          "name": "stdout",
          "text": [
            "['Male' 'Other' 'Female']\n"
          ]
        }
      ]
    },
    {
      "cell_type": "markdown",
      "source": [
        "Puedo ver que en la columna Gender, tengo el valor Other, entonces decido usar la columna Pregnancies como referencia, por lo que si Pregnancies es true y Gender es other, lo reemplazo por female. Esta decisión me permite mantener el tamaño total de la muestra, lo que aumenta la potencia estadística del análisis y reduce el riesgo de obtener resultados no representativos."
      ],
      "metadata": {
        "id": "gv77tUqD0-DB"
      }
    },
    {
      "cell_type": "code",
      "source": [
        "# Función para asignar el nuevo valor de Gender basado en las condiciones\n",
        "def asignar_genero(row):\n",
        "    if row['Gender'] == 'Other':\n",
        "        if row['Pregnancies'] > 0:\n",
        "            return 'Female'\n",
        "        else:\n",
        "            return 'Male'\n",
        "    else:\n",
        "        return row['Gender']\n",
        "\n",
        "# Aplico la función a cada fila del DataFrame para actualizar la columna 'Gender'\n",
        "df_copy['Gender'] = df_copy.apply(asignar_genero, axis=1)\n",
        "\n",
        "# Veo si se realizó el cambio\n",
        "valor_gender = df_copy['Gender'].unique()\n",
        "print(valor_gender)"
      ],
      "metadata": {
        "colab": {
          "base_uri": "https://localhost:8080/"
        },
        "id": "lqSaUyZc0-5w",
        "outputId": "58887a11-c9be-465a-a8a0-e573906a3fda"
      },
      "execution_count": 11,
      "outputs": [
        {
          "output_type": "stream",
          "name": "stdout",
          "text": [
            "['Male' 'Female']\n"
          ]
        }
      ]
    },
    {
      "cell_type": "markdown",
      "source": [
        "Ahora quiero eliminar las columnas que no contribuyen al estudio de si alguien tiene o no diabetes. En este caso son, chequeos regulares y el seguro médico.\n",
        "\n",
        "También puedo eliminar Heart_Rate, ya que el rango de análisis del dataset me da entre 60 y 119 lpm, y la frecuencia elevada alta (mayor a 120 lpm) me dice que está ligada a la presencia de diabetes. Por lo cual no necesito esa columna, ya que el máximo valor es 119 lpm.\n",
        "\n",
        "Elimino la columna Waist_Hip_Ratio, ya que me da informacion redundante, poorque estoy analizando la columna BMI para relacionar peso con presencia de diabetes.\n",
        "\n",
        "Existe una confusión entre nivel de proteína C y Péptido C, aquí el nivel de proteina C no nos proporciona información sobre diabetes, por lo cual no voy a tener en cuenta esta columna"
      ],
      "metadata": {
        "id": "HbZQk4xT5k49"
      }
    },
    {
      "cell_type": "code",
      "source": [
        "df_copy.drop(['Health_Insurance','Regular_Checkups','Heart_Rate','Waist_Hip_Ratio','C_Protein_Level'], axis=1, inplace=True)\n",
        "df_copy.columns"
      ],
      "metadata": {
        "colab": {
          "base_uri": "https://localhost:8080/"
        },
        "id": "J1ZjB5pO5wbw",
        "outputId": "b400e182-b8ae-4f3d-e587-283ecd3a3e77"
      },
      "execution_count": 12,
      "outputs": [
        {
          "output_type": "execute_result",
          "data": {
            "text/plain": [
              "Index(['Age', 'Gender', 'BMI', 'Family_History', 'Physical_Activity',\n",
              "       'Diet_Type', 'Smoking_Status', 'Alcohol_Intake', 'Stress_Level',\n",
              "       'Hypertension', 'Cholesterol_Level', 'Fasting_Blood_Sugar',\n",
              "       'Postprandial_Blood_Sugar', 'HBA1C', 'Urban_Rural',\n",
              "       'Medication_For_Chronic_Conditions', 'Pregnancies',\n",
              "       'Polycystic_Ovary_Syndrome', 'Glucose_Tolerance_Test_Result',\n",
              "       'Vitamin_D_Level', 'Thyroid_Condition', 'Diabetes_Status'],\n",
              "      dtype='object')"
            ]
          },
          "metadata": {},
          "execution_count": 12
        }
      ]
    },
    {
      "cell_type": "code",
      "source": [
        "df_copy.info()"
      ],
      "metadata": {
        "colab": {
          "base_uri": "https://localhost:8080/"
        },
        "id": "oi4jV3NN9TGb",
        "outputId": "b54e9af9-8a6a-42ff-8ba6-8764e98972a3"
      },
      "execution_count": 13,
      "outputs": [
        {
          "output_type": "stream",
          "name": "stdout",
          "text": [
            "<class 'pandas.core.frame.DataFrame'>\n",
            "RangeIndex: 5292 entries, 0 to 5291\n",
            "Data columns (total 22 columns):\n",
            " #   Column                             Non-Null Count  Dtype  \n",
            "---  ------                             --------------  -----  \n",
            " 0   Age                                5292 non-null   int64  \n",
            " 1   Gender                             5292 non-null   object \n",
            " 2   BMI                                5292 non-null   float64\n",
            " 3   Family_History                     5292 non-null   object \n",
            " 4   Physical_Activity                  5292 non-null   object \n",
            " 5   Diet_Type                          5292 non-null   object \n",
            " 6   Smoking_Status                     5292 non-null   object \n",
            " 7   Alcohol_Intake                     5292 non-null   object \n",
            " 8   Stress_Level                       5292 non-null   object \n",
            " 9   Hypertension                       5292 non-null   object \n",
            " 10  Cholesterol_Level                  5292 non-null   float64\n",
            " 11  Fasting_Blood_Sugar                5292 non-null   float64\n",
            " 12  Postprandial_Blood_Sugar           5292 non-null   float64\n",
            " 13  HBA1C                              5292 non-null   float64\n",
            " 14  Urban_Rural                        5292 non-null   object \n",
            " 15  Medication_For_Chronic_Conditions  5292 non-null   object \n",
            " 16  Pregnancies                        5292 non-null   int64  \n",
            " 17  Polycystic_Ovary_Syndrome          5292 non-null   object \n",
            " 18  Glucose_Tolerance_Test_Result      5292 non-null   float64\n",
            " 19  Vitamin_D_Level                    5292 non-null   float64\n",
            " 20  Thyroid_Condition                  5292 non-null   object \n",
            " 21  Diabetes_Status                    5292 non-null   object \n",
            "dtypes: float64(7), int64(2), object(13)\n",
            "memory usage: 909.7+ KB\n"
          ]
        }
      ]
    },
    {
      "cell_type": "markdown",
      "source": [
        "**Tratamiento de outliers**: Analizo las columnas numéricas para ver si encuentro outliers."
      ],
      "metadata": {
        "id": "0SRzAi6TQVEp"
      }
    },
    {
      "cell_type": "code",
      "source": [
        "# Columnas numéricas para anlizar\n",
        "columnas_numericas1 = [\n",
        "   'Age','Cholesterol_Level',\n",
        "   'Fasting_Blood_Sugar', 'Postprandial_Blood_Sugar',\n",
        " 'Glucose_Tolerance_Test_Result'\n",
        "]"
      ],
      "metadata": {
        "id": "hfWIPOrsQpAr"
      },
      "execution_count": 14,
      "outputs": []
    },
    {
      "cell_type": "code",
      "source": [
        "columnas_numericas2 = [\n",
        "   'BMI','HBA1C',\n",
        "   'Vitamin_D_Level'\n",
        "]"
      ],
      "metadata": {
        "id": "zx2IqwLrTLKE"
      },
      "execution_count": 15,
      "outputs": []
    },
    {
      "cell_type": "code",
      "source": [
        "# Visualización de outliers\n",
        "plt.figure(figsize=(12, 6))\n",
        "sns.boxplot(data=df_copy[columnas_numericas1])\n",
        "plt.title(\"Boxplot de Columnas Numéricas\")\n",
        "plt.xticks(rotation=45)\n",
        "plt.show()"
      ],
      "metadata": {
        "colab": {
          "base_uri": "https://localhost:8080/",
          "height": 691
        },
        "id": "Q8djFiZCRoLM",
        "outputId": "4112cde2-3d67-47a8-de45-7613bdf376b7"
      },
      "execution_count": 16,
      "outputs": [
        {
          "output_type": "display_data",
          "data": {
            "text/plain": [
              "<Figure size 1200x600 with 1 Axes>"
            ],
            "image/png": "[encoded data removed]"
          },
          "metadata": {}
        }
      ]
    },
    {
      "cell_type": "code",
      "source": [
        "# Visualización de outliers\n",
        "plt.figure(figsize=(12, 6))\n",
        "sns.boxplot(data=df_copy[columnas_numericas2])\n",
        "plt.title(\"Boxplot de Columnas Numéricas\")\n",
        "plt.xticks(rotation=45)\n",
        "plt.show()"
      ],
      "metadata": {
        "colab": {
          "base_uri": "https://localhost:8080/",
          "height": 622
        },
        "id": "dav155qvUWJl",
        "outputId": "b23acbe6-4a86-441b-dc4d-2cc806f8775f"
      },
      "execution_count": 17,
      "outputs": [
        {
          "output_type": "display_data",
          "data": {
            "text/plain": [
              "<Figure size 1200x600 with 1 Axes>"
            ],
            "image/png": "[encoded data removed]"
          },
          "metadata": {}
        }
      ]
    },
    {
      "cell_type": "code",
      "source": [
        "#Realizo una estadística descriptiva para tener una idea sobre las variables numéricas.\n",
        "print (\"Estadísticas descriptivas para variables numéricas: \")\n",
        "print(df_copy.describe()) # Para ver media, desvío estándar, mínimos y máximos"
      ],
      "metadata": {
        "colab": {
          "base_uri": "https://localhost:8080/"
        },
        "id": "UN6ezm1kdT2A",
        "outputId": "78e83391-7a86-403c-d83d-1eda997cb9a8"
      },
      "execution_count": 18,
      "outputs": [
        {
          "output_type": "stream",
          "name": "stdout",
          "text": [
            "Estadísticas descriptivas para variables numéricas: \n",
            "               Age          BMI  Cholesterol_Level  Fasting_Blood_Sugar  \\\n",
            "count  5292.000000  5292.000000        5292.000000          5292.000000   \n",
            "mean     48.417989    27.459883         199.777098           124.940193   \n",
            "std      18.040544     7.194187          57.103759            32.091770   \n",
            "min      18.000000    15.000000         100.000000            70.000000   \n",
            "25%      33.000000    21.200000         151.100000            97.100000   \n",
            "50%      48.000000    27.400000         198.600000           124.050000   \n",
            "75%      64.000000    33.600000         249.100000           153.300000   \n",
            "max      79.000000    40.000000         300.000000           180.000000   \n",
            "\n",
            "       Postprandial_Blood_Sugar        HBA1C  Pregnancies  \\\n",
            "count               5292.000000  5292.000000  5292.000000   \n",
            "mean                 164.709902     8.226909     1.493386   \n",
            "std                   43.152803     2.179662     2.677414   \n",
            "min                   90.100000     4.500000     0.000000   \n",
            "25%                  128.175000     6.300000     0.000000   \n",
            "50%                  164.950000     8.200000     0.000000   \n",
            "75%                  201.000000    10.100000     2.000000   \n",
            "max                  240.000000    12.000000     9.000000   \n",
            "\n",
            "       Glucose_Tolerance_Test_Result  Vitamin_D_Level  \n",
            "count                    5292.000000      5292.000000  \n",
            "mean                      135.011867        29.909883  \n",
            "std                        37.541696        11.527951  \n",
            "min                        70.100000        10.000000  \n",
            "25%                       102.175000        20.000000  \n",
            "50%                       136.000000        29.800000  \n",
            "75%                       167.100000        39.900000  \n",
            "max                       200.000000        50.000000  \n"
          ]
        }
      ]
    },
    {
      "cell_type": "markdown",
      "source": [
        "Puedo concluir en base a los gráficos de cajas, que no tengo outliers en las variables analizadas y los rangos son correctos.\n",
        "\n",
        "El BMI se encuentra en rango normal (menos de 18 es \"muy bajo peso\" a más de 30 que sería obesidad) de análisis, o sea que no hay valores atípicos.\n",
        "\n",
        "La Hemoglobina Glicosilada (HBA1C) tiene un rango (menos a 5.7 es normal, y mas de 6.5 presenta diabetes).\n",
        "\n",
        "Nivel de colesterol, rango (menos de 200 es normal a mas de 240 que es alto)\n",
        "\n",
        "Fasting_Blood_Sugar, rango (menos a 100 normal, a mas de 126 ya se considera diabetes).\n",
        "\n",
        "Postprandial_Blood_Sugar, rango (menos a 140 es normal, a mas de 200 que se considera diabetes)\n",
        "\n",
        "Glucose_Tolerance_Test_Result, rango (menos a 100 es normal, mas de 200 se considera diabetes)\n",
        "\n",
        "Vitamin_D_Level, rango (menos de 20 se considera insuficiente, entre 30 y 50 se consider normal)\n"
      ],
      "metadata": {
        "id": "QxGa10J2UfJQ"
      }
    },
    {
      "cell_type": "markdown",
      "source": [
        "#**Análisis exploratorio de datos**"
      ],
      "metadata": {
        "id": "_TsU4t1-a-Hs"
      }
    },
    {
      "cell_type": "markdown",
      "source": [
        "Realizo un análisis con gáficos de barras comparando antecedentes familiares, si son fumadores, si ingieren alcohol y si son hipertensos."
      ],
      "metadata": {
        "id": "_8Y3fe8VM6gt"
      }
    },
    {
      "cell_type": "code",
      "source": [
        "# Columnas categóricas relevantes\n",
        "categorical_cols = ['Family_History', 'Smoking_Status', 'Alcohol_Intake','Hypertension','Diet_Type']\n",
        "\n",
        "# Crear gráficos de barras para cada columna categórica\n",
        "for col in categorical_cols:\n",
        "    plt.figure(figsize=(3, 3))\n",
        "    sns.countplot(data=df_copy, x=col, hue='Diabetes_Status')\n",
        "    plt.title(f'Gráfico de Barras de {col} por Estado de Diabetes')\n",
        "    plt.xticks(rotation=45)\n",
        "    plt.show()"
      ],
      "metadata": {
        "colab": {
          "base_uri": "https://localhost:8080/",
          "height": 1000
        },
        "id": "51wD2ucsMmRh",
        "outputId": "3e4e3b40-c9a9-4f00-d5ef-40a19fd7aa44"
      },
      "execution_count": 21,
      "outputs": [
        {
          "output_type": "display_data",
          "data": {
            "text/plain": [
              "<Figure size 300x300 with 1 Axes>"
            ],
            "image/png": "[encoded data removed]"
          },
          "metadata": {}
        },
        {
          "output_type": "display_data",
          "data": {
            "text/plain": [
              "<Figure size 300x300 with 1 Axes>"
            ],
            "image/png": "[encoded data removed]"
          },
          "metadata": {}
        },
        {
          "output_type": "display_data",
          "data": {
            "text/plain": [
              "<Figure size 300x300 with 1 Axes>"
            ],
            "image/png": "[encoded data removed]"
          },
          "metadata": {}
        },
        {
          "output_type": "display_data",
          "data": {
            "text/plain": [
              "<Figure size 300x300 with 1 Axes>"
            ],
            "image/png": "[encoded data removed]"
          },
          "metadata": {}
        },
        {
          "output_type": "display_data",
          "data": {
            "text/plain": [
              "<Figure size 300x300 with 1 Axes>"
            ],
            "image/png": "[encoded data removed]"
          },
          "metadata": {}
        }
      ]
    },
    {
      "cell_type": "markdown",
      "source": [
        "Los que son fumadores, toman alcohol, son hipertensos y no son vegetarianos tienen mas posibilidades de tener diabetes."
      ],
      "metadata": {
        "id": "3dPjTj70M_Hw"
      }
    }
  ]
}